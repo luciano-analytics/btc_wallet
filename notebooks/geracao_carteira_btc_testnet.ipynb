{
 "cells": [
  {
   "cell_type": "markdown",
   "id": "6ddb2ff3-727d-43f6-91d4-dcf915bb290b",
   "metadata": {},
   "source": [
    "<div style=\"text-align: center;\">\n",
    "    <h1>Geração de Carteira Bitcoin Bech32 (Testnet) em Python</h1>\n",
    "    <div style=\"display: inline-block; text-align: center;\">\n",
    "        <span style=\"margin-left: 10px; font-size: 14px; color: #737373;\">\n",
    "            <a href=\"https://lucianomagalhaes.netlify.app/\" target=\"_blank\" style=\"color: #737373; text-decoration: none;\">\n",
    "                Luciano Magalhães\n",
    "            </a> &nbsp&nbsp|&nbsp\n",
    "            <i class=\"fa fa-clock-o\" style=\"margin-right: 5px;\"></i>&nbsp;&nbsp;Agosto, 2025 &nbsp;&nbsp;|\n",
    "        </span>\n",
    "        <span style=\"margin-left: 10px; font-size: 14px; color: #737373;\">\n",
    "            <i class=\"fa fa-folder-open\" style=\"margin-right: 5px;\"></i> Desenvolvimento de Software / Blockchain\n",
    "        </span>\n",
    "    </div>\n",
    "</div>\n",
    "\n"
   ]
  },
  {
   "cell_type": "markdown",
   "id": "0da038e0-73e2-435f-a7f6-ad72c4174998",
   "metadata": {},
   "source": [
    "___\n",
    "\n",
    "<div align=\"center\">\n",
    "  <img src=\"../imgs/carteira_btc.webp\" alt=\"Banner do Projeto BTC\" style=\"max-width: 100%; height: auto;\">\n",
    "</div>"
   ]
  },
  {
   "cell_type": "markdown",
   "id": "aac632a4-58b4-4d9f-9f30-7dc070467d89",
   "metadata": {},
   "source": [
    "<br><p style=\"color: #243B56E6; font-size: 18px; font-family: Arial, sans-serif; text-align: justify; line-height: 1.5;\"> <strong>1. Contexto</strong></p>\n",
    "\n",
    "<p style=\"color: #243B56E6; font-size: 17px; font-family: Arial, sans-serif; text-align: justify; line-height: 1.5;\"> Este projeto foi desenvolvido para atender à necessidade de geração de carteiras Bitcoin compatíveis com a rede de testes (<code>testnet</code>), utilizadas em ambientes de simulação, validação de transações e integração com scripts de monitoramento. A proposta é garantir reprodutibilidade, segurança e clareza na geração de credenciais criptográficas, com foco em carteiras Bech32 (padrão <code>BIP84</code>), amplamente utilizadas em aplicações modernas de Bitcoin. O projeto é executado em ambiente <code>Python</code>, com estrutura modular e encapsulamento dos dados gerados, permitindo uso direto em notebooks de simulação de transações e verificação de saldo. </p>"
   ]
  },
  {
   "cell_type": "markdown",
   "id": "ddcb3033-024a-4936-8251-14f5e259a917",
   "metadata": {},
   "source": [
    "---\n",
    "<p style=\"color: #243B56E6; font-size: 18px; font-family: Arial, sans-serif; text-align: justify; line-height: 1.5;\">\n",
    "<strong>2. Objetivo</strong></p>\n",
    "\n",
    "<p style=\"color: #243B56E6; font-size: 17px; font-family: Arial, sans-serif; text-align: justify; line-height: 1.5;\">\n",
    "O objetivo principal deste trabalho é <strong>gerar</strong>, em <code>Python</code>, uma <strong>carteira Bitcoin Bech32</strong> para uso exclusivo em ambiente de testes (<code>testnet</code>), contemplando:\n",
    "</p>\n",
    "\n",
    "<ul style=\"color: #243B56E6; font-size: 17px; font-family: Arial, sans-serif; text-align: justify; line-height: 1.5;\">\n",
    "  <li>Criação de frase mnemônica conforme o padrão <code>BIP39</code>.</li>\n",
    "  <li>Derivação da <code>seed</code> criptográfica a partir da mnemônica e aplicação do caminho <code>BIP84</code>.</li>\n",
    "  <li>Derivação da chave privada e do endereço público no padrão <code>BIP84</code>, resultando em endereço Bech32 (<code>tb1...</code>).</li>\n",
    "  <li>Encapsulamento dos dados gerados em estrutura imutável, garantindo integridade e reprodutibilidade.</li>\n",
    "  <li>Compatibilidade com notebooks de geração e verificação de saldo em ambiente de testes.</li>\n",
    "</ul>\n",
    "\n"
   ]
  },
  {
   "cell_type": "markdown",
   "id": "da29bcaf-6c47-422e-8ec1-90c9812b3e96",
   "metadata": {},
   "source": [
    "---\n",
    "<p style=\"color: #243B56E6; font-size: 18px; font-family: Arial, sans-serif; text-align: justify; line-height: 1.5;\">\n",
    "<strong>3. Metodologia</strong></p>\n",
    "\n",
    "<p style=\"color: #243B56E6; font-size: 17px; font-family: Arial, sans-serif; text-align: justify; line-height: 1.5;\"> A metodologia adotada segue os princípios de modularidade, clareza algorítmica e separação de responsabilidades. O projeto foi estruturado em etapas sequenciais e independentes, permitindo rastreabilidade e validação de cada componente: </p>\n",
    "\n",
    "<ul style=\"color: #243B56E6; font-size: 17px; font-family: Arial, sans-serif; text-align: justify; line-height: 1.5;\"> <li><strong>Geração da mnemônica</strong>: Utilização do padrão <code>BIP39</code> com 12 palavras.</li> <li><strong>Derivação da seed</strong>: Conversão da mnemônica em bytes para uso criptográfico.</li> <li><strong>Aplicação do caminho BIP84</strong>: Derivação da chave privada e do endereço público Bech32 (<code>tb1...</code>).</li> <li><strong>Encapsulamento dos dados</strong>: Uso de <code>dataclass</code> imutável para representar a carteira gerada.</li> <li><strong>Importação modular</strong>: A função principal <code>gerar_carteira_bech32()</code> é exposta via pacote <code>btc_wallet_testnet</code>, permitindo uso direto em notebooks e scripts externos.</li> </ul>"
   ]
  },
  {
   "cell_type": "markdown",
   "id": "cb873c9d-421f-4b31-bda1-e249438f3774",
   "metadata": {},
   "source": [
    "---\n",
    "<p style=\"color: #243B56E6; font-size: 18px; font-family: Arial, sans-serif; text-align: justify; line-height: 1.5;\">\n",
    "<strong>4 — Configura caminho para importação do pacote</strong></p>\n"
   ]
  },
  {
   "cell_type": "code",
   "execution_count": 1,
   "id": "50aaf88e-e5da-47f8-8614-cfb438e9ec42",
   "metadata": {},
   "outputs": [],
   "source": [
    "# 4 — Ajuste de caminho para importação do pacote\n",
    "import sys\n",
    "import os\n",
    "\n",
    "# Caminho absoluto para a pasta src/\n",
    "caminho_src = os.path.abspath(os.path.join(os.getcwd(), \"..\", \"src\"))\n",
    "if caminho_src not in sys.path:\n",
    "    sys.path.insert(0, caminho_src)\n"
   ]
  },
  {
   "cell_type": "markdown",
   "id": "20ffecdc-49a2-42e9-8a2f-92b0d5348169",
   "metadata": {},
   "source": [
    "---\n",
    "<p style=\"color: #243B56E6; font-size: 18px; font-family: Arial, sans-serif; text-align: justify; line-height: 1.5;\">\n",
    "<strong>5. Importação de Módulos</strong></p>\n",
    "\n",
    "<p style=\"color: #243B56E6; font-size: 17px; font-family: Arial, sans-serif; text-align: justify; line-height: 1.5;\">\n",
    "Nesta etapa, importamos as funções e classes necessárias para a execução do projeto a partir do pacote <code>btc_wallet_testnet</code>. Especificamente, utilizaremos a função <code>gerar_carteira_bech32</code>, responsável por criar a carteira Bitcoin na testnet, e a classe <code>Carteira</code>, que encapsula de forma imutável os dados da carteira gerada.\n",
    "</p>\n"
   ]
  },
  {
   "cell_type": "code",
   "execution_count": 2,
   "id": "3432f29a-effb-475b-a001-66d65c19d4a8",
   "metadata": {},
   "outputs": [],
   "source": [
    "# 05 — Importação de Módulos\n",
    "\n",
    "from btc_wallet_testnet import gerar_carteira_bech32, Carteira\n"
   ]
  },
  {
   "cell_type": "markdown",
   "id": "a1063451-6709-42b7-9152-3942c0ab2018",
   "metadata": {},
   "source": [
    "---\n",
    "<p style=\"color: #243B56E6; font-size: 18px; font-family: Arial, sans-serif; text-align: justify; line-height: 1.5;\">\n",
    "<strong>6. Execução da Geração da Carteira</strong></p>\n",
    "\n",
    "<p style=\"color: #243B56E6; font-size: 17px; font-family: Arial, sans-serif; text-align: justify; line-height: 1.5;\">\n",
    "Aqui executamos a função <code>gerar_carteira_bech32</code>, que realiza internamente a criação da frase mnemônica, derivação da chave privada no padrão BIP84 para a rede de testes e geração do endereço Bech32. O resultado é armazenado no objeto <code>carteira</code> para utilização posterior.\n",
    "</p>\n"
   ]
  },
  {
   "cell_type": "code",
   "execution_count": 3,
   "id": "e79bf56a-dfca-49c6-9fab-55ed387cb811",
   "metadata": {},
   "outputs": [],
   "source": [
    "# 06 — Execução da Geração\n",
    "\n",
    "carteira = gerar_carteira_bech32()\n"
   ]
  },
  {
   "cell_type": "markdown",
   "id": "e373f3c1-953d-4ebe-9a96-5c8f84a876bc",
   "metadata": {},
   "source": [
    "---\n",
    "<p style=\"color: #243B56E6; font-size: 18px; font-family: Arial, sans-serif; text-align: justify; line-height: 1.5;\">\n",
    "<strong>7. Visualização dos Resultados</strong></p>\n",
    "\n",
    "<p style=\"color: #243B56E6; font-size: 17px; font-family: Arial, sans-serif; text-align: justify; line-height: 1.5;\">\n",
    "Agora apresentamos os principais elementos da carteira gerada: endereço Bech32 (testnet), chave privada em formato WIF, frase mnemônica BIP39 e o caminho de derivação utilizado. Esta visualização é essencial para validar se a carteira foi criada corretamente e para documentar os dados de forma controlada durante os testes.\n",
    "</p>\n"
   ]
  },
  {
   "cell_type": "code",
   "execution_count": 4,
   "id": "219e51c0-ba7a-4f81-a394-b3ecbf4808e9",
   "metadata": {},
   "outputs": [
    {
     "name": "stdout",
     "output_type": "stream",
     "text": [
      "Endereço Bech32 (testnet): tb1qhfg0dcdxnlm0jq7tytyp2z5t3sml8k3ms2uxgx\n",
      "Chave privada (WIF):        cMz5arjiGKDrqBQRha4XVTcLX65o5DC4SB6NSjWadUYfBcGD3ehP\n",
      "Frase mnemônica:            enrich length embrace beef poet embrace miss wagon follow route series pottery\n",
      "Caminho derivado:           m/84'/1'/0'/0/0\n"
     ]
    }
   ],
   "source": [
    "# 07 — Visualização dos Resultados\n",
    "\n",
    "print(\"Endereço Bech32 (testnet):\", carteira.address)\n",
    "print(\"Chave privada (WIF):       \", carteira.wif)\n",
    "print(\"Frase mnemônica:           \", carteira.mnemonic)\n",
    "print(\"Caminho derivado:          \", carteira.path)\n"
   ]
  },
  {
   "cell_type": "markdown",
   "id": "69bf2b01-f7d3-4fca-babd-76598092648e",
   "metadata": {},
   "source": [
    "___\n",
    "<p style=\"color: #243B56E6; font-size: 18px; font-family: Arial, sans-serif; text-align: justify; line-height: 1.5;\">\n",
    "<strong>8. 🔐 Considerações sobre Segurança</strong></p>\n",
    "\n",
    "<p style=\"color: #243B56E6; font-size: 17px; font-family: Arial, sans-serif; text-align: justify; line-height: 1.5;\">\n",
    "As credenciais geradas neste projeto — como a chave privada e a frase mnemônica — são <strong>utilizadas exclusivamente em ambiente de testes (<code>testnet</code>)</strong> e não possuem valor real. Ainda assim, <strong>recomenda-se que essas informações não sejam reutilizadas em ambientes de produção</strong>, nem compartilhadas fora do contexto técnico deste projeto, evitando confusões ou uso indevido em aplicações reais.\n",
    "</p>\n"
   ]
  },
  {
   "cell_type": "markdown",
   "id": "b6e01007-e95a-4766-b673-d8078dc92456",
   "metadata": {},
   "source": [
    "___\n",
    "<p style=\"color: #243B56E6; font-size: 18px; font-family: Arial, sans-serif; text-align: justify; line-height: 1.5;\">\n",
    "<strong>9. 🔁 Integração com Simulação de Transação Bitcoin</strong></p>\n",
    "\n",
    "<p style=\"color: #243B56E6; font-size: 17px; font-family: Arial, sans-serif; text-align: justify; line-height: 1.5;\">\n",
    "A carteira gerada neste projeto — contendo chave privada, pública e endereço Bech32 — pode ser utilizada diretamente em ambientes de simulação para <strong>realizar transações reais na rede de testes (<code>testnet</code>)</strong>. Para demonstrar essa aplicabilidade, desenvolvi um módulo complementar que realiza o envio de criptomoedas utilizando os dados da carteira gerada aqui.\n",
    "</p>\n",
    "\n",
    "<p style=\"color: #243B56E6; font-size: 17px; font-family: Arial, sans-serif; text-align: justify; line-height: 1.5;\">\n",
    "Esse segundo projeto contempla:\n",
    "<ul style=\"color: #243B56E6; font-size: 17px; font-family: Arial, sans-serif; line-height: 1.5;\">\n",
    "  <li>Consulta de saldo e UTXOs disponíveis</li>\n",
    "  <li>Criação e assinatura da transação</li>\n",
    "  <li>Transmissão e validação do TXID</li>\n",
    "  <li>Monitoramento da confirmação via exploradores públicos</li>\n",
    "</ul>\n",
    "</p>\n",
    "\n",
    "<p style=\"color: #243B56E6; font-size: 17px; font-family: Arial, sans-serif; text-align: justify; line-height: 1.5;\">\n",
    "🔗 <strong><a href=\"https://github.com/luciano-analytics/btc_wallet/blob/main/notebooks/simular_transacao_testnet.ipynb\" target=\"_blank\" style=\"color: #1f7a8c;\">Acesse o notebook de simulação de transação</a></strong> para entender como a carteira gerada neste módulo pode ser utilizada em operações reais de teste.\n",
    "</p>\n"
   ]
  },
  {
   "cell_type": "markdown",
   "id": "dd117dcc-7777-4f0b-8d39-0d0b1f8c0aff",
   "metadata": {},
   "source": [
    "---\n",
    "\n",
    "<div style=\"text-align: center; color: gray;\">\n",
    "    © Copyright 2025  |  <a href=\"https://lucianomagalhaes.netlify.app/\"target=\"_blank\">Luciano Magalhães</a>\n",
    "</div>\n"
   ]
  }
 ],
 "metadata": {
  "kernelspec": {
   "display_name": "Python (btc_wallet_testnet_py)",
   "language": "python",
   "name": "btc_wallet_testnet_py"
  },
  "language_info": {
   "codemirror_mode": {
    "name": "ipython",
    "version": 3
   },
   "file_extension": ".py",
   "mimetype": "text/x-python",
   "name": "python",
   "nbconvert_exporter": "python",
   "pygments_lexer": "ipython3",
   "version": "3.12.3"
  }
 },
 "nbformat": 4,
 "nbformat_minor": 5
}
